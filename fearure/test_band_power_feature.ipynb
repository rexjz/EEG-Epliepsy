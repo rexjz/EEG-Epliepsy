{
 "cells": [
  {
   "cell_type": "code",
   "execution_count": 14,
   "metadata": {
    "collapsed": true
   },
   "outputs": [],
   "source": [
    "import feature_extraction\n",
    "import importlib\n",
    "from pprint import pprint\n",
    "\n",
    "from scipy import signal\n",
    "import numpy as np\n",
    "import matplotlib.pyplot as plt\n",
    "import seaborn as sns\n",
    "from scipy import signal\n",
    "from scipy.integrate import simps\n",
    "import yasa"
   ]
  },
  {
   "cell_type": "code",
   "execution_count": 15,
   "outputs": [],
   "source": [
    "data = np.loadtxt('data.txt')"
   ],
   "metadata": {
    "collapsed": false,
    "pycharm": {
     "name": "#%%\n"
    }
   }
  },
  {
   "cell_type": "code",
   "execution_count": 20,
   "outputs": [
    {
     "data": {
      "text/plain": "   delta_power_ratio  theta_power_ratio  alpha_power_ratio  sigma_power_ratio  \\\n0           0.853561           0.089063           0.036916           0.016081   \n\n   beta_power_ratio  gamma_power_ratio  total_power  \n0          0.004139            0.00024   376.146415  ",
      "text/html": "<div>\n<style scoped>\n    .dataframe tbody tr th:only-of-type {\n        vertical-align: middle;\n    }\n\n    .dataframe tbody tr th {\n        vertical-align: top;\n    }\n\n    .dataframe thead th {\n        text-align: right;\n    }\n</style>\n<table border=\"1\" class=\"dataframe\">\n  <thead>\n    <tr style=\"text-align: right;\">\n      <th></th>\n      <th>delta_power_ratio</th>\n      <th>theta_power_ratio</th>\n      <th>alpha_power_ratio</th>\n      <th>sigma_power_ratio</th>\n      <th>beta_power_ratio</th>\n      <th>gamma_power_ratio</th>\n      <th>total_power</th>\n    </tr>\n  </thead>\n  <tbody>\n    <tr>\n      <th>0</th>\n      <td>0.853561</td>\n      <td>0.089063</td>\n      <td>0.036916</td>\n      <td>0.016081</td>\n      <td>0.004139</td>\n      <td>0.00024</td>\n      <td>376.146415</td>\n    </tr>\n  </tbody>\n</table>\n</div>"
     },
     "execution_count": 20,
     "metadata": {},
     "output_type": "execute_result"
    }
   ],
   "source": [
    "importlib.reload(feature_extraction)\n",
    "# sf = 100.\n",
    "# time = np.arange(data.size) / sf\n",
    "# win = 4 * sf\n",
    "feature_extraction.band_power_feature_extraction(data, sf=100)"
   ],
   "metadata": {
    "collapsed": false,
    "pycharm": {
     "name": "#%%\n"
    }
   }
  },
  {
   "cell_type": "code",
   "execution_count": 21,
   "outputs": [
    {
     "data": {
      "text/plain": "   delta_power_ratio  theta_power_ratio  alpha_power_ratio  sigma_power_ratio  \\\n0           0.853561           0.089063           0.036916           0.016081   \n\n   beta_power_ratio  gamma_power_ratio  total_power  \n0          0.004139            0.00024   376.146415  ",
      "text/html": "<div>\n<style scoped>\n    .dataframe tbody tr th:only-of-type {\n        vertical-align: middle;\n    }\n\n    .dataframe tbody tr th {\n        vertical-align: top;\n    }\n\n    .dataframe thead th {\n        text-align: right;\n    }\n</style>\n<table border=\"1\" class=\"dataframe\">\n  <thead>\n    <tr style=\"text-align: right;\">\n      <th></th>\n      <th>delta_power_ratio</th>\n      <th>theta_power_ratio</th>\n      <th>alpha_power_ratio</th>\n      <th>sigma_power_ratio</th>\n      <th>beta_power_ratio</th>\n      <th>gamma_power_ratio</th>\n      <th>total_power</th>\n    </tr>\n  </thead>\n  <tbody>\n    <tr>\n      <th>0</th>\n      <td>0.853561</td>\n      <td>0.089063</td>\n      <td>0.036916</td>\n      <td>0.016081</td>\n      <td>0.004139</td>\n      <td>0.00024</td>\n      <td>376.146415</td>\n    </tr>\n  </tbody>\n</table>\n</div>"
     },
     "execution_count": 21,
     "metadata": {},
     "output_type": "execute_result"
    }
   ],
   "source": [
    "sns.set(font_scale=1.2)\n",
    "sf = 100.\n",
    "time = np.arange(data.size) / sf\n",
    "win = 4 * sf\n",
    "freqs, psd = signal.welch(data, sf, nperseg=win)\n",
    "res = yasa.bandpower_from_psd(psd, freqs)\n",
    "r_res = res.iloc[:, 1:8]\n",
    "r_res.columns = [\n",
    "    'delta_power_ratio', 'theta_power_ratio',\n",
    "    'alpha_power_ratio','sigma_power_ratio',\n",
    "    'beta_power_ratio', 'gamma_power_ratio',\n",
    "    'total_power'\n",
    "]\n",
    "r_res"
   ],
   "metadata": {
    "collapsed": false,
    "pycharm": {
     "name": "#%%\n"
    }
   }
  }
 ],
 "metadata": {
  "kernelspec": {
   "display_name": "Python 3",
   "language": "python",
   "name": "python3"
  },
  "language_info": {
   "codemirror_mode": {
    "name": "ipython",
    "version": 2
   },
   "file_extension": ".py",
   "mimetype": "text/x-python",
   "name": "python",
   "nbconvert_exporter": "python",
   "pygments_lexer": "ipython2",
   "version": "2.7.6"
  }
 },
 "nbformat": 4,
 "nbformat_minor": 0
}
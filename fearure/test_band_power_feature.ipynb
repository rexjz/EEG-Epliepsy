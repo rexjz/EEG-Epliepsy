{
 "cells": [
  {
   "cell_type": "code",
   "execution_count": 3,
   "metadata": {
    "collapsed": true
   },
   "outputs": [],
   "source": [
    "import feature_extraction\n",
    "import importlib\n",
    "from pprint import pprint\n",
    "from data_slicing.metadata import metadata\n",
    "from data_slicing.slicing import get_data\n",
    "from scipy import signal\n",
    "import numpy as np\n",
    "import matplotlib.pyplot as plt\n",
    "import seaborn as sns\n",
    "from scipy import signal\n",
    "from scipy.integrate import simps\n",
    "import yasa"
   ]
  },
  {
   "cell_type": "code",
   "execution_count": 4,
   "outputs": [
    {
     "name": "stdout",
     "output_type": "stream",
     "text": [
      "Extracting EDF parameters from D:\\workspace2\\eeg-epilepsy\\data\\EpilepticEEGDataset\\p10_Record1.edf...\n",
      "EDF file detected\n",
      "Setting channel info structure...\n",
      "Creating raw.info structure...\n",
      "Reading 0 ... 5401499  =      0.000 ... 10802.998 secs...\n",
      "=== record_time === 2023-05-07 05:36:39\n",
      "s_index, s_index_end:  3599500 3822000\n",
      "=== raw_data.shape ===  (19, 5401500)\n",
      "=== normal_record.shape ===  (19, 5179000)\n",
      "=== seizure_record.shape ===  (19, 222500)\n"
     ]
    }
   ],
   "source": [
    "patient_code = \"p10\"\n",
    "patient_metadata = metadata[patient_code]\n",
    "records = patient_metadata[\"records\"]\n",
    "record = records[0]\n",
    "normal_record, seizure_record, info = get_data(record)\n",
    "# data = np.loadtxt('data.txt')"
   ],
   "metadata": {
    "collapsed": false,
    "pycharm": {
     "name": "#%%\n"
    }
   }
  },
  {
   "cell_type": "code",
   "execution_count": 5,
   "outputs": [],
   "source": [
    "start = 4000\n",
    "range = np.s_[:, start:start+2000]\n",
    "normal_data = normal_record[range]\n",
    "seizure_data = seizure_record[range]"
   ],
   "metadata": {
    "collapsed": false,
    "pycharm": {
     "name": "#%%\n"
    }
   }
  },
  {
   "cell_type": "code",
   "execution_count": 6,
   "outputs": [
    {
     "data": {
      "text/plain": "delta_power_ratio    8.105359e-01\ntheta_power_ratio    1.399936e-01\nalpha_power_ratio    3.341199e-02\nsigma_power_ratio    1.132896e-02\nbeta_power_ratio     4.323180e-03\ngamma_power_ratio    4.063314e-04\ntotal_power          1.127123e-09\ndtype: float64"
     },
     "execution_count": 6,
     "metadata": {},
     "output_type": "execute_result"
    }
   ],
   "source": [
    "importlib.reload(feature_extraction)\n",
    "# sf = 100.\n",
    "# time = np.arange(data.size) / sf\n",
    "# win = 4 * sf\n",
    "res1 = feature_extraction.band_power_feature_extraction(normal_data, sf=500)\n",
    "res1.mean(axis=0)"
   ],
   "metadata": {
    "collapsed": false,
    "pycharm": {
     "name": "#%%\n"
    }
   }
  },
  {
   "cell_type": "code",
   "execution_count": 7,
   "outputs": [
    {
     "data": {
      "text/plain": "delta_power_ratio    5.511540e-01\ntheta_power_ratio    2.622911e-01\nalpha_power_ratio    1.361204e-01\nsigma_power_ratio    3.627078e-02\nbeta_power_ratio     1.333019e-02\ngamma_power_ratio    8.335333e-04\ntotal_power          4.431985e-09\ndtype: float64"
     },
     "execution_count": 7,
     "metadata": {},
     "output_type": "execute_result"
    }
   ],
   "source": [
    "res2 = feature_extraction.band_power_feature_extraction(seizure_data, sf=500)\n",
    "res2.mean(axis=0)"
   ],
   "metadata": {
    "collapsed": false,
    "pycharm": {
     "name": "#%%\n"
    }
   }
  },
  {
   "cell_type": "code",
   "execution_count": 8,
   "outputs": [
    {
     "ename": "KeyboardInterrupt",
     "evalue": "",
     "output_type": "error",
     "traceback": [
      "\u001B[1;31m---------------------------------------------------------------------------\u001B[0m",
      "\u001B[1;31mKeyboardInterrupt\u001B[0m                         Traceback (most recent call last)",
      "Input \u001B[1;32mIn [8]\u001B[0m, in \u001B[0;36m<cell line: 2>\u001B[1;34m()\u001B[0m\n\u001B[0;32m      1\u001B[0m importlib\u001B[38;5;241m.\u001B[39mreload(feature_extraction)\n\u001B[1;32m----> 2\u001B[0m \u001B[43mfeature_extraction\u001B[49m\u001B[38;5;241;43m.\u001B[39;49m\u001B[43mfeature_extraction_batching\u001B[49m\u001B[43m(\u001B[49m\u001B[43m[\u001B[49m\u001B[43mnormal_data\u001B[49m\u001B[43m,\u001B[49m\u001B[43m \u001B[49m\u001B[43mseizure_data\u001B[49m\u001B[43m]\u001B[49m\u001B[43m,\u001B[49m\u001B[43mdatatype\u001B[49m\u001B[38;5;241;43m=\u001B[39;49m\u001B[38;5;241;43m0\u001B[39;49m\u001B[43m,\u001B[49m\u001B[43m \u001B[49m\u001B[43minfo\u001B[49m\u001B[38;5;241;43m=\u001B[39;49m\u001B[38;5;124;43m\"\u001B[39;49m\u001B[38;5;124;43mtest\u001B[39;49m\u001B[38;5;124;43m\"\u001B[39;49m\u001B[43m)\u001B[49m\n",
      "File \u001B[1;32mD:\\workspace2\\eeg-epilepsy\\fearure\\feature_extraction.py:40\u001B[0m, in \u001B[0;36mfeature_extraction_batching\u001B[1;34m(batch, datatype, info)\u001B[0m\n\u001B[0;32m     38\u001B[0m     bp \u001B[38;5;241m=\u001B[39m band_power_feature_extraction(piece)\n\u001B[0;32m     39\u001B[0m     new_df \u001B[38;5;241m=\u001B[39m new_df\u001B[38;5;241m.\u001B[39mjoin(bp, how\u001B[38;5;241m=\u001B[39m\u001B[38;5;124m'\u001B[39m\u001B[38;5;124mouter\u001B[39m\u001B[38;5;124m'\u001B[39m)\n\u001B[1;32m---> 40\u001B[0m     new_df \u001B[38;5;241m=\u001B[39m new_df\u001B[38;5;241m.\u001B[39mjoin(\u001B[43mwp_entropy\u001B[49m\u001B[43m(\u001B[49m\u001B[43mpiece\u001B[49m\u001B[43m)\u001B[49m, how\u001B[38;5;241m=\u001B[39m\u001B[38;5;124m'\u001B[39m\u001B[38;5;124mouter\u001B[39m\u001B[38;5;124m'\u001B[39m)\n\u001B[0;32m     41\u001B[0m     feature_table \u001B[38;5;241m=\u001B[39m pd\u001B[38;5;241m.\u001B[39mconcat([feature_table, new_df], ignore_index\u001B[38;5;241m=\u001B[39m\u001B[38;5;28;01mTrue\u001B[39;00m)\n\u001B[0;32m     42\u001B[0m \u001B[38;5;28;01mif\u001B[39;00m datatype \u001B[38;5;241m==\u001B[39m \u001B[38;5;241m0\u001B[39m:\n",
      "File \u001B[1;32mD:\\workspace2\\eeg-epilepsy\\fearure\\feature_extraction.py:182\u001B[0m, in \u001B[0;36mwp_entropy\u001B[1;34m(signal, maxlevel, wavelet)\u001B[0m\n\u001B[0;32m    179\u001B[0m filtedData \u001B[38;5;241m=\u001B[39m lowpassFiltering(signal)\n\u001B[0;32m    180\u001B[0m feature_matrix_wav_packet_entropy \u001B[38;5;241m=\u001B[39m np\u001B[38;5;241m.\u001B[39mrepeat(np\u001B[38;5;241m.\u001B[39mnan, filtedData\u001B[38;5;241m.\u001B[39mshape[\u001B[38;5;241m0\u001B[39m] \u001B[38;5;241m*\u001B[39m \u001B[38;5;241m2\u001B[39m \u001B[38;5;241m*\u001B[39m\u001B[38;5;241m*\u001B[39m maxlevel) \\\n\u001B[0;32m    181\u001B[0m     \u001B[38;5;241m.\u001B[39mreshape(filtedData\u001B[38;5;241m.\u001B[39mshape[\u001B[38;5;241m0\u001B[39m], \u001B[38;5;241m2\u001B[39m \u001B[38;5;241m*\u001B[39m\u001B[38;5;241m*\u001B[39m maxlevel)\n\u001B[1;32m--> 182\u001B[0m \u001B[38;5;28;01mfor\u001B[39;00m i \u001B[38;5;129;01min\u001B[39;00m \u001B[38;5;28;43mrange\u001B[39;49m(filtedData\u001B[38;5;241m.\u001B[39mshape[\u001B[38;5;241m0\u001B[39m]):\n\u001B[0;32m    183\u001B[0m     wp \u001B[38;5;241m=\u001B[39m pywt\u001B[38;5;241m.\u001B[39mWaveletPacket(filtedData[i, :], wavelet\u001B[38;5;241m=\u001B[39mwavelet, maxlevel\u001B[38;5;241m=\u001B[39mmaxlevel)  \u001B[38;5;66;03m# Wavelet packet transformation\u001B[39;00m\n\u001B[0;32m    184\u001B[0m     packet_names \u001B[38;5;241m=\u001B[39m [node\u001B[38;5;241m.\u001B[39mpath \u001B[38;5;28;01mfor\u001B[39;00m node \u001B[38;5;129;01min\u001B[39;00m wp\u001B[38;5;241m.\u001B[39mget_level(maxlevel, \u001B[38;5;124m\"\u001B[39m\u001B[38;5;124mnatural\u001B[39m\u001B[38;5;124m\"\u001B[39m)]  \u001B[38;5;66;03m# Packet node names.\u001B[39;00m\n",
      "File \u001B[1;32mD:\\workspace2\\eeg-epilepsy\\fearure\\feature_extraction.py:182\u001B[0m, in \u001B[0;36mwp_entropy\u001B[1;34m(signal, maxlevel, wavelet)\u001B[0m\n\u001B[0;32m    179\u001B[0m filtedData \u001B[38;5;241m=\u001B[39m lowpassFiltering(signal)\n\u001B[0;32m    180\u001B[0m feature_matrix_wav_packet_entropy \u001B[38;5;241m=\u001B[39m np\u001B[38;5;241m.\u001B[39mrepeat(np\u001B[38;5;241m.\u001B[39mnan, filtedData\u001B[38;5;241m.\u001B[39mshape[\u001B[38;5;241m0\u001B[39m] \u001B[38;5;241m*\u001B[39m \u001B[38;5;241m2\u001B[39m \u001B[38;5;241m*\u001B[39m\u001B[38;5;241m*\u001B[39m maxlevel) \\\n\u001B[0;32m    181\u001B[0m     \u001B[38;5;241m.\u001B[39mreshape(filtedData\u001B[38;5;241m.\u001B[39mshape[\u001B[38;5;241m0\u001B[39m], \u001B[38;5;241m2\u001B[39m \u001B[38;5;241m*\u001B[39m\u001B[38;5;241m*\u001B[39m maxlevel)\n\u001B[1;32m--> 182\u001B[0m \u001B[38;5;28;01mfor\u001B[39;00m i \u001B[38;5;129;01min\u001B[39;00m \u001B[38;5;28;43mrange\u001B[39;49m(filtedData\u001B[38;5;241m.\u001B[39mshape[\u001B[38;5;241m0\u001B[39m]):\n\u001B[0;32m    183\u001B[0m     wp \u001B[38;5;241m=\u001B[39m pywt\u001B[38;5;241m.\u001B[39mWaveletPacket(filtedData[i, :], wavelet\u001B[38;5;241m=\u001B[39mwavelet, maxlevel\u001B[38;5;241m=\u001B[39mmaxlevel)  \u001B[38;5;66;03m# Wavelet packet transformation\u001B[39;00m\n\u001B[0;32m    184\u001B[0m     packet_names \u001B[38;5;241m=\u001B[39m [node\u001B[38;5;241m.\u001B[39mpath \u001B[38;5;28;01mfor\u001B[39;00m node \u001B[38;5;129;01min\u001B[39;00m wp\u001B[38;5;241m.\u001B[39mget_level(maxlevel, \u001B[38;5;124m\"\u001B[39m\u001B[38;5;124mnatural\u001B[39m\u001B[38;5;124m\"\u001B[39m)]  \u001B[38;5;66;03m# Packet node names.\u001B[39;00m\n",
      "File \u001B[1;32m_pydevd_bundle\\pydevd_cython_win32_38_64.pyx:1180\u001B[0m, in \u001B[0;36m_pydevd_bundle.pydevd_cython_win32_38_64.SafeCallWrapper.__call__\u001B[1;34m()\u001B[0m\n",
      "File \u001B[1;32m_pydevd_bundle\\pydevd_cython_win32_38_64.pyx:621\u001B[0m, in \u001B[0;36m_pydevd_bundle.pydevd_cython_win32_38_64.PyDBFrame.trace_dispatch\u001B[1;34m()\u001B[0m\n",
      "File \u001B[1;32m_pydevd_bundle\\pydevd_cython_win32_38_64.pyx:1096\u001B[0m, in \u001B[0;36m_pydevd_bundle.pydevd_cython_win32_38_64.PyDBFrame.trace_dispatch\u001B[1;34m()\u001B[0m\n",
      "File \u001B[1;32m_pydevd_bundle\\pydevd_cython_win32_38_64.pyx:1058\u001B[0m, in \u001B[0;36m_pydevd_bundle.pydevd_cython_win32_38_64.PyDBFrame.trace_dispatch\u001B[1;34m()\u001B[0m\n",
      "File \u001B[1;32m_pydevd_bundle\\pydevd_cython_win32_38_64.pyx:318\u001B[0m, in \u001B[0;36m_pydevd_bundle.pydevd_cython_win32_38_64.PyDBFrame.do_wait_suspend\u001B[1;34m()\u001B[0m\n",
      "File \u001B[1;32m~\\AppData\\Local\\JetBrains\\Toolbox\\apps\\PyCharm-P\\ch-0\\213.6777.50\\plugins\\python\\helpers\\pydev\\pydevd.py:1147\u001B[0m, in \u001B[0;36mPyDB.do_wait_suspend\u001B[1;34m(self, thread, frame, event, arg, send_suspend_message, is_unhandled_exception)\u001B[0m\n\u001B[0;32m   1144\u001B[0m         from_this_thread\u001B[38;5;241m.\u001B[39mappend(frame_id)\n\u001B[0;32m   1146\u001B[0m \u001B[38;5;28;01mwith\u001B[39;00m \u001B[38;5;28mself\u001B[39m\u001B[38;5;241m.\u001B[39m_threads_suspended_single_notification\u001B[38;5;241m.\u001B[39mnotify_thread_suspended(thread_id, stop_reason):\n\u001B[1;32m-> 1147\u001B[0m     \u001B[38;5;28;43mself\u001B[39;49m\u001B[38;5;241;43m.\u001B[39;49m\u001B[43m_do_wait_suspend\u001B[49m\u001B[43m(\u001B[49m\u001B[43mthread\u001B[49m\u001B[43m,\u001B[49m\u001B[43m \u001B[49m\u001B[43mframe\u001B[49m\u001B[43m,\u001B[49m\u001B[43m \u001B[49m\u001B[43mevent\u001B[49m\u001B[43m,\u001B[49m\u001B[43m \u001B[49m\u001B[43marg\u001B[49m\u001B[43m,\u001B[49m\u001B[43m \u001B[49m\u001B[43msuspend_type\u001B[49m\u001B[43m,\u001B[49m\u001B[43m \u001B[49m\u001B[43mfrom_this_thread\u001B[49m\u001B[43m)\u001B[49m\n",
      "File \u001B[1;32m~\\AppData\\Local\\JetBrains\\Toolbox\\apps\\PyCharm-P\\ch-0\\213.6777.50\\plugins\\python\\helpers\\pydev\\pydevd.py:1162\u001B[0m, in \u001B[0;36mPyDB._do_wait_suspend\u001B[1;34m(self, thread, frame, event, arg, suspend_type, from_this_thread)\u001B[0m\n\u001B[0;32m   1159\u001B[0m             \u001B[38;5;28mself\u001B[39m\u001B[38;5;241m.\u001B[39m_call_mpl_hook()\n\u001B[0;32m   1161\u001B[0m         \u001B[38;5;28mself\u001B[39m\u001B[38;5;241m.\u001B[39mprocess_internal_commands()\n\u001B[1;32m-> 1162\u001B[0m         \u001B[43mtime\u001B[49m\u001B[38;5;241;43m.\u001B[39;49m\u001B[43msleep\u001B[49m\u001B[43m(\u001B[49m\u001B[38;5;241;43m0.01\u001B[39;49m\u001B[43m)\u001B[49m\n\u001B[0;32m   1164\u001B[0m \u001B[38;5;28mself\u001B[39m\u001B[38;5;241m.\u001B[39mcancel_async_evaluation(get_current_thread_id(thread), \u001B[38;5;28mstr\u001B[39m(\u001B[38;5;28mid\u001B[39m(frame)))\n\u001B[0;32m   1166\u001B[0m \u001B[38;5;66;03m# process any stepping instructions\u001B[39;00m\n",
      "\u001B[1;31mKeyboardInterrupt\u001B[0m: "
     ]
    }
   ],
   "source": [
    "importlib.reload(feature_extraction)\n",
    "feature_extraction.feature_extraction_batching([normal_data, seizure_data],datatype=0, info=\"test\")"
   ],
   "metadata": {
    "collapsed": false,
    "pycharm": {
     "name": "#%%\n"
    }
   }
  }
 ],
 "metadata": {
  "kernelspec": {
   "display_name": "Python 3",
   "language": "python",
   "name": "python3"
  },
  "language_info": {
   "codemirror_mode": {
    "name": "ipython",
    "version": 2
   },
   "file_extension": ".py",
   "mimetype": "text/x-python",
   "name": "python",
   "nbconvert_exporter": "python",
   "pygments_lexer": "ipython2",
   "version": "2.7.6"
  }
 },
 "nbformat": 4,
 "nbformat_minor": 0
}
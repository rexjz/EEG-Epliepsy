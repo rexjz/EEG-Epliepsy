{
 "cells": [
  {
   "cell_type": "code",
   "execution_count": 6,
   "metadata": {
    "collapsed": true
   },
   "outputs": [],
   "source": [
    "import feature_extraction\n",
    "import importlib\n",
    "from data_slicing.metadata import metadata\n",
    "from data_slicing.slicing import get_data\n",
    "import numpy as np\n",
    "import pandas as pd"
   ]
  },
  {
   "cell_type": "code",
   "execution_count": 2,
   "outputs": [
    {
     "name": "stdout",
     "output_type": "stream",
     "text": [
      "Extracting EDF parameters from D:\\workspace2\\eeg-epilepsy\\data\\EpilepticEEGDataset\\p10_Record1.edf...\n",
      "EDF file detected\n",
      "Setting channel info structure...\n",
      "Creating raw.info structure...\n",
      "Reading 0 ... 5401499  =      0.000 ... 10802.998 secs...\n",
      "=== record_time === 2023-05-05 05:36:39\n",
      "s_index, s_index_end:  3599500 3822000\n",
      "=== raw_data.shape ===  (19, 5401500)\n",
      "=== normal_record.shape ===  (19, 5179000)\n",
      "=== seizure_record.shape ===  (19, 222500)\n"
     ]
    }
   ],
   "source": [
    "patient_code = \"p10\"\n",
    "patient_metadata = metadata[patient_code]\n",
    "records = patient_metadata[\"records\"]\n",
    "record = records[0]\n",
    "normal_record, seizure_record, info = get_data(record)\n",
    "# data = np.loadtxt('data.txt')"
   ],
   "metadata": {
    "collapsed": false,
    "pycharm": {
     "name": "#%%\n"
    }
   }
  },
  {
   "cell_type": "code",
   "execution_count": 4,
   "outputs": [],
   "source": [
    "start = 4000\n",
    "range = np.s_[:, start:start+2000]\n",
    "normal_data = normal_record[range]\n",
    "seizure_data = seizure_record[range]"
   ],
   "metadata": {
    "collapsed": false,
    "pycharm": {
     "name": "#%%\n"
    }
   }
  },
  {
   "cell_type": "code",
   "execution_count": 8,
   "outputs": [
    {
     "data": {
      "text/plain": "    shannon_wavelet_entropy\n0                  3.257727\n1                  3.558222\n2                  3.985740\n3                  3.800175\n4                  4.065263\n5                  3.787179\n6                  3.950082\n7                  3.905336\n8                  3.904541\n9                  3.424552\n10                 4.032365\n11                 3.874066\n12                 4.041166\n13                 4.034462\n14                 4.001519\n15                 4.022043\n16                 4.109869\n17                 4.077316\n18                 4.007254",
      "text/html": "<div>\n<style scoped>\n    .dataframe tbody tr th:only-of-type {\n        vertical-align: middle;\n    }\n\n    .dataframe tbody tr th {\n        vertical-align: top;\n    }\n\n    .dataframe thead th {\n        text-align: right;\n    }\n</style>\n<table border=\"1\" class=\"dataframe\">\n  <thead>\n    <tr style=\"text-align: right;\">\n      <th></th>\n      <th>shannon_wavelet_entropy</th>\n    </tr>\n  </thead>\n  <tbody>\n    <tr>\n      <th>0</th>\n      <td>3.257727</td>\n    </tr>\n    <tr>\n      <th>1</th>\n      <td>3.558222</td>\n    </tr>\n    <tr>\n      <th>2</th>\n      <td>3.985740</td>\n    </tr>\n    <tr>\n      <th>3</th>\n      <td>3.800175</td>\n    </tr>\n    <tr>\n      <th>4</th>\n      <td>4.065263</td>\n    </tr>\n    <tr>\n      <th>5</th>\n      <td>3.787179</td>\n    </tr>\n    <tr>\n      <th>6</th>\n      <td>3.950082</td>\n    </tr>\n    <tr>\n      <th>7</th>\n      <td>3.905336</td>\n    </tr>\n    <tr>\n      <th>8</th>\n      <td>3.904541</td>\n    </tr>\n    <tr>\n      <th>9</th>\n      <td>3.424552</td>\n    </tr>\n    <tr>\n      <th>10</th>\n      <td>4.032365</td>\n    </tr>\n    <tr>\n      <th>11</th>\n      <td>3.874066</td>\n    </tr>\n    <tr>\n      <th>12</th>\n      <td>4.041166</td>\n    </tr>\n    <tr>\n      <th>13</th>\n      <td>4.034462</td>\n    </tr>\n    <tr>\n      <th>14</th>\n      <td>4.001519</td>\n    </tr>\n    <tr>\n      <th>15</th>\n      <td>4.022043</td>\n    </tr>\n    <tr>\n      <th>16</th>\n      <td>4.109869</td>\n    </tr>\n    <tr>\n      <th>17</th>\n      <td>4.077316</td>\n    </tr>\n    <tr>\n      <th>18</th>\n      <td>4.007254</td>\n    </tr>\n  </tbody>\n</table>\n</div>"
     },
     "execution_count": 8,
     "metadata": {},
     "output_type": "execute_result"
    }
   ],
   "source": [
    "importlib.reload(feature_extraction)\n",
    "res = feature_extraction.wavelet_feature_extraction(normal_data, channel_number = normal_data.shape[0], N=normal_data.shape[1])\n",
    "pd.DataFrame(res)"
   ],
   "metadata": {
    "collapsed": false,
    "pycharm": {
     "name": "#%%\n"
    }
   }
  },
  {
   "cell_type": "code",
   "execution_count": 24,
   "outputs": [
    {
     "data": {
      "text/plain": "    wp_entropy_0  wp_entropy_1  wp_entropy_2  wp_entropy_3  wp_entropy_4  \\\n0       0.000037  2.150511e-08  9.144133e-11  2.809941e-10  2.647786e-13   \n1       0.000076  3.668436e-08  4.545382e-10  6.275737e-10  7.361361e-13   \n2       0.000032  2.432898e-08  1.088522e-10  2.787146e-10  2.734994e-13   \n3       0.000089  7.805571e-08  7.599019e-10  6.628987e-10  8.864700e-13   \n4       0.000048  2.734751e-08  1.612938e-10  3.035392e-10  2.939353e-13   \n5       0.000004  4.667223e-09  2.034563e-11  5.023959e-11  4.969241e-14   \n6       0.000068  3.811861e-08  2.178425e-10  3.231803e-10  3.719906e-13   \n7       0.000052  2.275952e-08  1.751290e-10  2.872860e-10  3.051054e-13   \n8       0.000081  5.226070e-08  2.655876e-10  3.103580e-10  3.584000e-13   \n9       0.000073  3.565684e-08  1.862819e-10  3.011223e-10  3.886390e-13   \n10      0.000063  3.130041e-08  1.920493e-10  4.031197e-10  3.852472e-13   \n11      0.000049  2.516226e-08  2.913957e-10  4.564472e-10  5.528991e-13   \n12      0.000078  3.319568e-08  2.237470e-10  3.697685e-10  4.114490e-13   \n13      0.000022  1.695994e-08  8.461963e-11  1.946558e-10  1.895319e-13   \n14      0.000088  5.382472e-08  2.763264e-10  3.236031e-10  3.686922e-13   \n15      0.000069  3.242668e-08  1.763540e-10  3.093221e-10  3.871209e-13   \n16      0.000025  1.754678e-08  1.303045e-10  2.399616e-10  2.492192e-13   \n17      0.000073  3.629258e-08  1.770225e-10  3.032748e-10  2.939665e-13   \n18      0.000047  2.255503e-08  1.162364e-10  2.979241e-10  3.380693e-13   \n\n    wp_entropy_5  wp_entropy_6  wp_entropy_7  \n0   1.028359e-12  3.204742e-13  3.570193e-13  \n1   5.533140e-12  3.016479e-13  3.265972e-13  \n2   8.581807e-13  1.991561e-14  2.419891e-13  \n3   7.304312e-12  2.307969e-13  2.544776e-13  \n4   1.622205e-12  3.343946e-13  3.248260e-13  \n5   1.704449e-13  3.203146e-14  4.823667e-14  \n6   2.719850e-12  2.145772e-12  1.051523e-12  \n7   2.313318e-12  9.189473e-13  5.275201e-13  \n8   2.294800e-12  1.855654e-12  1.000200e-12  \n9   2.619575e-12  2.688951e-12  1.235775e-12  \n10  2.121945e-12  4.835430e-13  4.408953e-13  \n11  3.676594e-12  1.695277e-13  2.082178e-13  \n12  2.974938e-12  1.811745e-12  9.483457e-13  \n13  1.043365e-12  6.666815e-13  3.932501e-13  \n14  3.132991e-12  3.048713e-12  1.520446e-12  \n15  2.237251e-12  1.959152e-12  9.383556e-13  \n16  1.493327e-12  4.830635e-14  1.682834e-13  \n17  1.950818e-12  1.385422e-12  8.072753e-13  \n18  1.546910e-12  1.081544e-12  6.157808e-13  ",
      "text/html": "<div>\n<style scoped>\n    .dataframe tbody tr th:only-of-type {\n        vertical-align: middle;\n    }\n\n    .dataframe tbody tr th {\n        vertical-align: top;\n    }\n\n    .dataframe thead th {\n        text-align: right;\n    }\n</style>\n<table border=\"1\" class=\"dataframe\">\n  <thead>\n    <tr style=\"text-align: right;\">\n      <th></th>\n      <th>wp_entropy_0</th>\n      <th>wp_entropy_1</th>\n      <th>wp_entropy_2</th>\n      <th>wp_entropy_3</th>\n      <th>wp_entropy_4</th>\n      <th>wp_entropy_5</th>\n      <th>wp_entropy_6</th>\n      <th>wp_entropy_7</th>\n    </tr>\n  </thead>\n  <tbody>\n    <tr>\n      <th>0</th>\n      <td>0.000037</td>\n      <td>2.150511e-08</td>\n      <td>9.144133e-11</td>\n      <td>2.809941e-10</td>\n      <td>2.647786e-13</td>\n      <td>1.028359e-12</td>\n      <td>3.204742e-13</td>\n      <td>3.570193e-13</td>\n    </tr>\n    <tr>\n      <th>1</th>\n      <td>0.000076</td>\n      <td>3.668436e-08</td>\n      <td>4.545382e-10</td>\n      <td>6.275737e-10</td>\n      <td>7.361361e-13</td>\n      <td>5.533140e-12</td>\n      <td>3.016479e-13</td>\n      <td>3.265972e-13</td>\n    </tr>\n    <tr>\n      <th>2</th>\n      <td>0.000032</td>\n      <td>2.432898e-08</td>\n      <td>1.088522e-10</td>\n      <td>2.787146e-10</td>\n      <td>2.734994e-13</td>\n      <td>8.581807e-13</td>\n      <td>1.991561e-14</td>\n      <td>2.419891e-13</td>\n    </tr>\n    <tr>\n      <th>3</th>\n      <td>0.000089</td>\n      <td>7.805571e-08</td>\n      <td>7.599019e-10</td>\n      <td>6.628987e-10</td>\n      <td>8.864700e-13</td>\n      <td>7.304312e-12</td>\n      <td>2.307969e-13</td>\n      <td>2.544776e-13</td>\n    </tr>\n    <tr>\n      <th>4</th>\n      <td>0.000048</td>\n      <td>2.734751e-08</td>\n      <td>1.612938e-10</td>\n      <td>3.035392e-10</td>\n      <td>2.939353e-13</td>\n      <td>1.622205e-12</td>\n      <td>3.343946e-13</td>\n      <td>3.248260e-13</td>\n    </tr>\n    <tr>\n      <th>5</th>\n      <td>0.000004</td>\n      <td>4.667223e-09</td>\n      <td>2.034563e-11</td>\n      <td>5.023959e-11</td>\n      <td>4.969241e-14</td>\n      <td>1.704449e-13</td>\n      <td>3.203146e-14</td>\n      <td>4.823667e-14</td>\n    </tr>\n    <tr>\n      <th>6</th>\n      <td>0.000068</td>\n      <td>3.811861e-08</td>\n      <td>2.178425e-10</td>\n      <td>3.231803e-10</td>\n      <td>3.719906e-13</td>\n      <td>2.719850e-12</td>\n      <td>2.145772e-12</td>\n      <td>1.051523e-12</td>\n    </tr>\n    <tr>\n      <th>7</th>\n      <td>0.000052</td>\n      <td>2.275952e-08</td>\n      <td>1.751290e-10</td>\n      <td>2.872860e-10</td>\n      <td>3.051054e-13</td>\n      <td>2.313318e-12</td>\n      <td>9.189473e-13</td>\n      <td>5.275201e-13</td>\n    </tr>\n    <tr>\n      <th>8</th>\n      <td>0.000081</td>\n      <td>5.226070e-08</td>\n      <td>2.655876e-10</td>\n      <td>3.103580e-10</td>\n      <td>3.584000e-13</td>\n      <td>2.294800e-12</td>\n      <td>1.855654e-12</td>\n      <td>1.000200e-12</td>\n    </tr>\n    <tr>\n      <th>9</th>\n      <td>0.000073</td>\n      <td>3.565684e-08</td>\n      <td>1.862819e-10</td>\n      <td>3.011223e-10</td>\n      <td>3.886390e-13</td>\n      <td>2.619575e-12</td>\n      <td>2.688951e-12</td>\n      <td>1.235775e-12</td>\n    </tr>\n    <tr>\n      <th>10</th>\n      <td>0.000063</td>\n      <td>3.130041e-08</td>\n      <td>1.920493e-10</td>\n      <td>4.031197e-10</td>\n      <td>3.852472e-13</td>\n      <td>2.121945e-12</td>\n      <td>4.835430e-13</td>\n      <td>4.408953e-13</td>\n    </tr>\n    <tr>\n      <th>11</th>\n      <td>0.000049</td>\n      <td>2.516226e-08</td>\n      <td>2.913957e-10</td>\n      <td>4.564472e-10</td>\n      <td>5.528991e-13</td>\n      <td>3.676594e-12</td>\n      <td>1.695277e-13</td>\n      <td>2.082178e-13</td>\n    </tr>\n    <tr>\n      <th>12</th>\n      <td>0.000078</td>\n      <td>3.319568e-08</td>\n      <td>2.237470e-10</td>\n      <td>3.697685e-10</td>\n      <td>4.114490e-13</td>\n      <td>2.974938e-12</td>\n      <td>1.811745e-12</td>\n      <td>9.483457e-13</td>\n    </tr>\n    <tr>\n      <th>13</th>\n      <td>0.000022</td>\n      <td>1.695994e-08</td>\n      <td>8.461963e-11</td>\n      <td>1.946558e-10</td>\n      <td>1.895319e-13</td>\n      <td>1.043365e-12</td>\n      <td>6.666815e-13</td>\n      <td>3.932501e-13</td>\n    </tr>\n    <tr>\n      <th>14</th>\n      <td>0.000088</td>\n      <td>5.382472e-08</td>\n      <td>2.763264e-10</td>\n      <td>3.236031e-10</td>\n      <td>3.686922e-13</td>\n      <td>3.132991e-12</td>\n      <td>3.048713e-12</td>\n      <td>1.520446e-12</td>\n    </tr>\n    <tr>\n      <th>15</th>\n      <td>0.000069</td>\n      <td>3.242668e-08</td>\n      <td>1.763540e-10</td>\n      <td>3.093221e-10</td>\n      <td>3.871209e-13</td>\n      <td>2.237251e-12</td>\n      <td>1.959152e-12</td>\n      <td>9.383556e-13</td>\n    </tr>\n    <tr>\n      <th>16</th>\n      <td>0.000025</td>\n      <td>1.754678e-08</td>\n      <td>1.303045e-10</td>\n      <td>2.399616e-10</td>\n      <td>2.492192e-13</td>\n      <td>1.493327e-12</td>\n      <td>4.830635e-14</td>\n      <td>1.682834e-13</td>\n    </tr>\n    <tr>\n      <th>17</th>\n      <td>0.000073</td>\n      <td>3.629258e-08</td>\n      <td>1.770225e-10</td>\n      <td>3.032748e-10</td>\n      <td>2.939665e-13</td>\n      <td>1.950818e-12</td>\n      <td>1.385422e-12</td>\n      <td>8.072753e-13</td>\n    </tr>\n    <tr>\n      <th>18</th>\n      <td>0.000047</td>\n      <td>2.255503e-08</td>\n      <td>1.162364e-10</td>\n      <td>2.979241e-10</td>\n      <td>3.380693e-13</td>\n      <td>1.546910e-12</td>\n      <td>1.081544e-12</td>\n      <td>6.157808e-13</td>\n    </tr>\n  </tbody>\n</table>\n</div>"
     },
     "execution_count": 24,
     "metadata": {},
     "output_type": "execute_result"
    }
   ],
   "source": [
    "importlib.reload(feature_extraction)\n",
    "feature_extraction.wp_entropy(normal_data, maxlevel=3)"
   ],
   "metadata": {
    "collapsed": false,
    "pycharm": {
     "name": "#%%\n"
    }
   }
  }
 ],
 "metadata": {
  "kernelspec": {
   "display_name": "Python 3",
   "language": "python",
   "name": "python3"
  },
  "language_info": {
   "codemirror_mode": {
    "name": "ipython",
    "version": 2
   },
   "file_extension": ".py",
   "mimetype": "text/x-python",
   "name": "python",
   "nbconvert_exporter": "python",
   "pygments_lexer": "ipython2",
   "version": "2.7.6"
  }
 },
 "nbformat": 4,
 "nbformat_minor": 0
}
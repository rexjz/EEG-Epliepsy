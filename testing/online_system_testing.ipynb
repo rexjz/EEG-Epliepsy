{
 "cells": [
  {
   "cell_type": "markdown",
   "source": [
    "# Online system testing"
   ],
   "metadata": {
    "collapsed": false
   }
  },
  {
   "cell_type": "code",
   "execution_count": 3,
   "metadata": {
    "collapsed": true
   },
   "outputs": [],
   "source": [
    "import numpy as np\n",
    "\n",
    "from data_slicing.metadata import metadata\n",
    "from data_slicing.slicing import get_data\n",
    "from online_system.emd_ica_artifact_removal import get_imfs\n",
    "from pprint import pprint\n",
    "import importlib"
   ]
  },
  {
   "cell_type": "markdown",
   "source": [
    "## Read Data"
   ],
   "metadata": {
    "collapsed": false,
    "pycharm": {
     "name": "#%% md\n"
    }
   }
  },
  {
   "cell_type": "code",
   "source": [
    "patient_code = \"p10\"\n",
    "patient_metadata = metadata[patient_code]\n",
    "records = patient_metadata[\"records\"]\n",
    "record = records[0]\n",
    "normal_record, seizure_record, info = get_data(record)"
   ],
   "metadata": {
    "collapsed": false,
    "pycharm": {
     "name": "#%%\n"
    }
   },
   "execution_count": 4,
   "outputs": [
    {
     "name": "stdout",
     "output_type": "stream",
     "text": [
      "Extracting EDF parameters from D:\\workspace2\\eeg-epilepsy\\data\\EpilepticEEGDataset\\p10_Record1.edf...\n",
      "EDF file detected\n",
      "Setting channel info structure...\n",
      "Creating raw.info structure...\n",
      "Reading 0 ... 5401499  =      0.000 ... 10802.998 secs...\n",
      "=== record_time === 2023-03-31 05:36:39\n",
      "s_index, s_index_end:  3599500 3822000\n",
      "=== raw_data.shape ===  (19, 5401500)\n",
      "=== normal_record.shape ===  (19, 5179000)\n",
      "=== seizure_record.shape ===  (19, 222500)\n"
     ]
    }
   ]
  },
  {
   "cell_type": "markdown",
   "source": [
    "## Test EMD Decomposition"
   ],
   "metadata": {
    "collapsed": false
   }
  },
  {
   "cell_type": "code",
   "execution_count": 5,
   "outputs": [
    {
     "name": "stdout",
     "output_type": "stream",
     "text": [
      "'artifact_removal, channel_number: 19 data_length: 2000'\n"
     ]
    }
   ],
   "source": [
    "def get_imfs_it():\n",
    "    test_data = normal_record[:, 0:2000]\n",
    "    imfs, imf_ch_names = get_imfs(test_data, info[\"ch_names\"])\n",
    "    a = 1\n",
    "    return imfs, imf_ch_names\n",
    "\n",
    "imfs, imf_ch_names = get_imfs_it()"
   ],
   "metadata": {
    "collapsed": false,
    "pycharm": {
     "name": "#%%\n"
    }
   }
  },
  {
   "cell_type": "code",
   "execution_count": 6,
   "outputs": [
    {
     "name": "stdout",
     "output_type": "stream",
     "text": [
      "['Fp1-Ref imf1',\n",
      " 'Fp1-Ref imf2',\n",
      " 'Fp1-Ref imf3',\n",
      " 'Fp1-Ref imf4',\n",
      " 'Fp1-Ref imf5',\n",
      " 'Fp1-Ref imf6',\n",
      " 'Fp1-Ref imf7',\n",
      " 'Fp2-Ref imf1',\n",
      " 'Fp2-Ref imf2',\n",
      " 'Fp2-Ref imf3',\n",
      " 'Fp2-Ref imf4',\n",
      " 'Fp2-Ref imf5',\n",
      " 'Fp2-Ref imf6',\n",
      " 'Fp2-Ref imf7',\n",
      " 'Fp2-Ref imf8',\n",
      " 'Fp2-Ref imf9',\n",
      " 'F3-Ref imf1',\n",
      " 'F3-Ref imf2',\n",
      " 'F3-Ref imf3',\n",
      " 'F3-Ref imf4',\n",
      " 'F3-Ref imf5',\n",
      " 'F3-Ref imf6',\n",
      " 'F3-Ref imf7',\n",
      " 'F3-Ref imf8',\n",
      " 'F4-Ref imf1',\n",
      " 'F4-Ref imf2',\n",
      " 'F4-Ref imf3',\n",
      " 'F4-Ref imf4',\n",
      " 'F4-Ref imf5',\n",
      " 'F4-Ref imf6',\n",
      " 'F4-Ref imf7',\n",
      " 'F4-Ref imf8',\n",
      " 'C3-Ref imf1',\n",
      " 'C3-Ref imf2',\n",
      " 'C3-Ref imf3',\n",
      " 'C3-Ref imf4',\n",
      " 'C3-Ref imf5',\n",
      " 'C3-Ref imf6',\n",
      " 'C3-Ref imf7',\n",
      " 'C3-Ref imf8',\n",
      " 'C3-Ref imf9',\n",
      " 'C4-Ref imf1',\n",
      " 'C4-Ref imf2',\n",
      " 'C4-Ref imf3',\n",
      " 'C4-Ref imf4',\n",
      " 'C4-Ref imf5',\n",
      " 'C4-Ref imf6',\n",
      " 'C4-Ref imf7',\n",
      " 'C4-Ref imf8',\n",
      " 'C4-Ref imf9',\n",
      " 'P3-Ref imf1',\n",
      " 'P3-Ref imf2',\n",
      " 'P3-Ref imf3',\n",
      " 'P3-Ref imf4',\n",
      " 'P3-Ref imf5',\n",
      " 'P3-Ref imf6',\n",
      " 'P3-Ref imf7',\n",
      " 'P3-Ref imf8',\n",
      " 'P4-Ref imf1',\n",
      " 'P4-Ref imf2',\n",
      " 'P4-Ref imf3',\n",
      " 'P4-Ref imf4',\n",
      " 'P4-Ref imf5',\n",
      " 'P4-Ref imf6',\n",
      " 'P4-Ref imf7',\n",
      " 'P4-Ref imf8',\n",
      " 'O1-Ref imf1',\n",
      " 'O1-Ref imf2',\n",
      " 'O1-Ref imf3',\n",
      " 'O1-Ref imf4',\n",
      " 'O1-Ref imf5',\n",
      " 'O1-Ref imf6',\n",
      " 'O1-Ref imf7',\n",
      " 'O1-Ref imf8',\n",
      " 'O2-Ref imf1',\n",
      " 'O2-Ref imf2',\n",
      " 'O2-Ref imf3',\n",
      " 'O2-Ref imf4',\n",
      " 'O2-Ref imf5',\n",
      " 'O2-Ref imf6',\n",
      " 'O2-Ref imf7',\n",
      " 'O2-Ref imf8',\n",
      " 'O2-Ref imf9',\n",
      " 'F7-Ref imf1',\n",
      " 'F7-Ref imf2',\n",
      " 'F7-Ref imf3',\n",
      " 'F7-Ref imf4',\n",
      " 'F7-Ref imf5',\n",
      " 'F7-Ref imf6',\n",
      " 'F7-Ref imf7',\n",
      " 'F7-Ref imf8',\n",
      " 'F8-Ref imf1',\n",
      " 'F8-Ref imf2',\n",
      " 'F8-Ref imf3',\n",
      " 'F8-Ref imf4',\n",
      " 'F8-Ref imf5',\n",
      " 'F8-Ref imf6',\n",
      " 'F8-Ref imf7',\n",
      " 'F8-Ref imf8',\n",
      " 'T3-Ref imf1',\n",
      " 'T3-Ref imf2',\n",
      " 'T3-Ref imf3',\n",
      " 'T3-Ref imf4',\n",
      " 'T3-Ref imf5',\n",
      " 'T3-Ref imf6',\n",
      " 'T3-Ref imf7',\n",
      " 'T3-Ref imf8',\n",
      " 'T4-Ref imf1',\n",
      " 'T4-Ref imf2',\n",
      " 'T4-Ref imf3',\n",
      " 'T4-Ref imf4',\n",
      " 'T4-Ref imf5',\n",
      " 'T4-Ref imf6',\n",
      " 'T4-Ref imf7',\n",
      " 'T4-Ref imf8',\n",
      " 'T5-Ref imf1',\n",
      " 'T5-Ref imf2',\n",
      " 'T5-Ref imf3',\n",
      " 'T5-Ref imf4',\n",
      " 'T5-Ref imf5',\n",
      " 'T5-Ref imf6',\n",
      " 'T5-Ref imf7',\n",
      " 'T5-Ref imf8',\n",
      " 'T6-Ref imf1',\n",
      " 'T6-Ref imf2',\n",
      " 'T6-Ref imf3',\n",
      " 'T6-Ref imf4',\n",
      " 'T6-Ref imf5',\n",
      " 'T6-Ref imf6',\n",
      " 'T6-Ref imf7',\n",
      " 'T6-Ref imf8',\n",
      " 'Fz-Ref imf1',\n",
      " 'Fz-Ref imf2',\n",
      " 'Fz-Ref imf3',\n",
      " 'Fz-Ref imf4',\n",
      " 'Fz-Ref imf5',\n",
      " 'Fz-Ref imf6',\n",
      " 'Fz-Ref imf7',\n",
      " 'Fz-Ref imf8',\n",
      " 'A1-Ref imf1',\n",
      " 'A1-Ref imf2',\n",
      " 'A1-Ref imf3',\n",
      " 'A1-Ref imf4',\n",
      " 'A1-Ref imf5',\n",
      " 'A1-Ref imf6',\n",
      " 'A1-Ref imf7',\n",
      " 'A1-Ref imf8',\n",
      " 'A2-Ref imf1',\n",
      " 'A2-Ref imf2',\n",
      " 'A2-Ref imf3',\n",
      " 'A2-Ref imf4',\n",
      " 'A2-Ref imf5',\n",
      " 'A2-Ref imf6',\n",
      " 'A2-Ref imf7',\n",
      " 'A2-Ref imf8',\n",
      " 'A2-Ref imf9']\n"
     ]
    }
   ],
   "source": [
    "pprint(imf_ch_names)"
   ],
   "metadata": {
    "collapsed": false,
    "pycharm": {
     "name": "#%%\n"
    }
   }
  },
  {
   "cell_type": "code",
   "execution_count": 7,
   "outputs": [
    {
     "name": "stdout",
     "output_type": "stream",
     "text": [
      "Int64Index([  0,   1,   2,   3,   4,   5,   6,   7,   8,   9,\n",
      "            ...\n",
      "            144, 145, 146, 147, 148, 149, 152, 153, 154, 155],\n",
      "           dtype='int64', length=119)\n"
     ]
    }
   ],
   "source": [
    "from online_system.emd_ica_artifact_removal import imf_filtering\n",
    "\n",
    "def imf_filtering_it():\n",
    "    return imf_filtering(imfs, imf_ch_names)\n",
    "\n",
    "eligible_imf_indexes = imf_filtering_it()\n",
    "pprint(eligible_imf_indexes)"
   ],
   "metadata": {
    "collapsed": false,
    "pycharm": {
     "name": "#%%\n"
    }
   }
  },
  {
   "cell_type": "code",
   "execution_count": 8,
   "outputs": [
    {
     "name": "stdout",
     "output_type": "stream",
     "text": [
      "(119, 2000)\n",
      "['Fp1-Ref imf1' 'Fp1-Ref imf2' 'Fp1-Ref imf3' 'Fp1-Ref imf4'\n",
      " 'Fp1-Ref imf5' 'Fp1-Ref imf6' 'Fp1-Ref imf7' 'Fp2-Ref imf1'\n",
      " 'Fp2-Ref imf2' 'Fp2-Ref imf3' 'Fp2-Ref imf4' 'Fp2-Ref imf7'\n",
      " 'Fp2-Ref imf8' 'Fp2-Ref imf9' 'F3-Ref imf1' 'F3-Ref imf2' 'F3-Ref imf5'\n",
      " 'F3-Ref imf6' 'F3-Ref imf7' 'F3-Ref imf8' 'F4-Ref imf1' 'F4-Ref imf3'\n",
      " 'F4-Ref imf6' 'F4-Ref imf7' 'F4-Ref imf8' 'C3-Ref imf1' 'C3-Ref imf2'\n",
      " 'C3-Ref imf6' 'C3-Ref imf7' 'C3-Ref imf8' 'C3-Ref imf9' 'C4-Ref imf1'\n",
      " 'C4-Ref imf2' 'C4-Ref imf5' 'C4-Ref imf6' 'C4-Ref imf7' 'C4-Ref imf8'\n",
      " 'C4-Ref imf9' 'P3-Ref imf4' 'P3-Ref imf5' 'P3-Ref imf6' 'P3-Ref imf7'\n",
      " 'P3-Ref imf8' 'P4-Ref imf2' 'P4-Ref imf4' 'P4-Ref imf5' 'P4-Ref imf6'\n",
      " 'P4-Ref imf7' 'P4-Ref imf8' 'O1-Ref imf1' 'O1-Ref imf2' 'O1-Ref imf3'\n",
      " 'O1-Ref imf4' 'O1-Ref imf5' 'O1-Ref imf6' 'O1-Ref imf7' 'O1-Ref imf8'\n",
      " 'O2-Ref imf1' 'O2-Ref imf5' 'O2-Ref imf6' 'O2-Ref imf7' 'O2-Ref imf8'\n",
      " 'O2-Ref imf9' 'F7-Ref imf1' 'F7-Ref imf4' 'F7-Ref imf5' 'F7-Ref imf6'\n",
      " 'F7-Ref imf7' 'F7-Ref imf8' 'F8-Ref imf1' 'F8-Ref imf3' 'F8-Ref imf4'\n",
      " 'F8-Ref imf5' 'F8-Ref imf6' 'F8-Ref imf7' 'F8-Ref imf8' 'T3-Ref imf4'\n",
      " 'T3-Ref imf5' 'T3-Ref imf6' 'T3-Ref imf7' 'T4-Ref imf1' 'T4-Ref imf2'\n",
      " 'T4-Ref imf4' 'T4-Ref imf5' 'T4-Ref imf6' 'T4-Ref imf7' 'T4-Ref imf8'\n",
      " 'T5-Ref imf2' 'T5-Ref imf4' 'T5-Ref imf5' 'T5-Ref imf6' 'T5-Ref imf7'\n",
      " 'T5-Ref imf8' 'T6-Ref imf1' 'T6-Ref imf2' 'T6-Ref imf4' 'T6-Ref imf5'\n",
      " 'T6-Ref imf6' 'T6-Ref imf7' 'T6-Ref imf8' 'Fz-Ref imf1' 'Fz-Ref imf2'\n",
      " 'Fz-Ref imf5' 'Fz-Ref imf6' 'Fz-Ref imf7' 'Fz-Ref imf8' 'A1-Ref imf1'\n",
      " 'A1-Ref imf3' 'A1-Ref imf4' 'A1-Ref imf6' 'A1-Ref imf7' 'A1-Ref imf8'\n",
      " 'A2-Ref imf1' 'A2-Ref imf2' 'A2-Ref imf3' 'A2-Ref imf6' 'A2-Ref imf7'\n",
      " 'A2-Ref imf8' 'A2-Ref imf9']\n"
     ]
    }
   ],
   "source": [
    "eligible_imfs = imfs[eligible_imf_indexes]\n",
    "eligible_imf_ch_names = np.array(imf_ch_names)[eligible_imf_indexes]\n",
    "print(eligible_imfs.shape)\n",
    "print(eligible_imf_ch_names)"
   ],
   "metadata": {
    "collapsed": false,
    "pycharm": {
     "name": "#%%\n"
    }
   }
  },
  {
   "cell_type": "code",
   "execution_count": 37,
   "outputs": [
    {
     "name": "stdout",
     "output_type": "stream",
     "text": [
      "Creating RawArray with float64 data, n_channels=119, n_times=2000\n",
      "    Range : 0 ... 1999 =      0.000 ...     3.998 secs\n",
      "Ready.\n",
      "Filtering raw data in 1 contiguous segment\n",
      "Setting up high-pass filter at 1 Hz\n",
      "\n",
      "FIR filter parameters\n",
      "---------------------\n",
      "Designing a one-pass, zero-phase, non-causal highpass filter:\n",
      "- Windowed time-domain design (firwin) method\n",
      "- Hamming window with 0.0194 passband ripple and 53 dB stopband attenuation\n",
      "- Lower passband edge: 1.00\n",
      "- Lower transition bandwidth: 1.00 Hz (-6 dB cutoff frequency: 0.50 Hz)\n",
      "- Filter length: 1651 samples (3.302 sec)\n",
      "\n",
      "Fitting ICA to data using 119 channels (please be patient, this may take a while)\n",
      "Selecting by number: 50 components\n"
     ]
    },
    {
     "name": "stderr",
     "output_type": "stream",
     "text": [
      "[Parallel(n_jobs=1)]: Using backend SequentialBackend with 1 concurrent workers.\n",
      "[Parallel(n_jobs=1)]: Done   1 out of   1 | elapsed:    0.0s remaining:    0.0s\n",
      "[Parallel(n_jobs=1)]: Done   2 out of   2 | elapsed:    0.0s remaining:    0.0s\n",
      "[Parallel(n_jobs=1)]: Done   3 out of   3 | elapsed:    0.0s remaining:    0.0s\n",
      "[Parallel(n_jobs=1)]: Done   4 out of   4 | elapsed:    0.0s remaining:    0.0s\n",
      "[Parallel(n_jobs=1)]: Done 119 out of 119 | elapsed:    0.0s finished\n"
     ]
    },
    {
     "name": "stdout",
     "output_type": "stream",
     "text": [
      "Fitting ICA took 0.5s.\n"
     ]
    }
   ],
   "source": [
    "from online_system import emd_ica_artifact_removal\n",
    "importlib.reload(emd_ica_artifact_removal)\n",
    "ica_components_raw = emd_ica_artifact_removal.ICA_decompose(eligible_imfs, eligible_imf_ch_names)"
   ],
   "metadata": {
    "collapsed": false,
    "pycharm": {
     "name": "#%%\n"
    }
   }
  },
  {
   "cell_type": "code",
   "execution_count": 41,
   "outputs": [
    {
     "name": "stdout",
     "output_type": "stream",
     "text": [
      "<class 'tuple'>\n"
     ]
    }
   ],
   "source": [
    "ica_components = np.array(ica_components_raw.get_data())\n",
    "ica_components_filtering(ica_components, )"
   ],
   "metadata": {
    "collapsed": false,
    "pycharm": {
     "name": "#%%\n"
    }
   }
  }
 ],
 "metadata": {
  "kernelspec": {
   "display_name": "Python 3",
   "language": "python",
   "name": "python3"
  },
  "language_info": {
   "codemirror_mode": {
    "name": "ipython",
    "version": 2
   },
   "file_extension": ".py",
   "mimetype": "text/x-python",
   "name": "python",
   "nbconvert_exporter": "python",
   "pygments_lexer": "ipython2",
   "version": "2.7.6"
  }
 },
 "nbformat": 4,
 "nbformat_minor": 0
}
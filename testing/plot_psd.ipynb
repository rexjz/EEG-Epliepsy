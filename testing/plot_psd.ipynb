{
 "cells": [
  {
   "cell_type": "code",
   "execution_count": 7,
   "metadata": {
    "collapsed": true
   },
   "outputs": [],
   "source": [
    "from definitions import ROOT_DIR\n",
    "import os\n",
    "import mne\n",
    "import numpy as np\n",
    "from mne.preprocessing import (ICA, create_eog_epochs, create_ecg_epochs, corrmap)"
   ]
  },
  {
   "cell_type": "code",
   "execution_count": 8,
   "outputs": [
    {
     "name": "stdout",
     "output_type": "stream",
     "text": [
      "Extracting EDF parameters from D:\\workspace2\\eeg-epilepsy\\data\\EPI_odzysk\\JANPRZ\\JANPRZ_EEG_DATA.edf...\n",
      "EDF file detected\n",
      "Setting channel info structure...\n",
      "Creating raw.info structure...\n",
      "Reading 0 ... 488999  =      0.000 ...  1955.996 secs...\n",
      "Setting up band-stop filter from 49 - 51 Hz\n",
      "\n",
      "FIR filter parameters\n",
      "---------------------\n",
      "Designing a one-pass, zero-phase, non-causal bandstop filter:\n",
      "- Windowed time-domain design (firwin) method\n",
      "- Hamming window with 0.0194 passband ripple and 53 dB stopband attenuation\n",
      "- Lower passband edge: 49.38\n",
      "- Lower transition bandwidth: 0.50 Hz (-6 dB cutoff frequency: 49.12 Hz)\n",
      "- Upper passband edge: 50.62 Hz\n",
      "- Upper transition bandwidth: 0.50 Hz (-6 dB cutoff frequency: 50.88 Hz)\n",
      "- Filter length: 1651 samples (6.604 sec)\n",
      "\n"
     ]
    },
    {
     "name": "stderr",
     "output_type": "stream",
     "text": [
      "[Parallel(n_jobs=1)]: Using backend SequentialBackend with 1 concurrent workers.\n",
      "[Parallel(n_jobs=1)]: Done   1 out of   1 | elapsed:    0.0s remaining:    0.0s\n",
      "[Parallel(n_jobs=1)]: Done   2 out of   2 | elapsed:    0.0s remaining:    0.0s\n",
      "[Parallel(n_jobs=1)]: Done   3 out of   3 | elapsed:    0.0s remaining:    0.0s\n",
      "[Parallel(n_jobs=1)]: Done   4 out of   4 | elapsed:    0.0s remaining:    0.0s\n",
      "[Parallel(n_jobs=1)]: Done  19 out of  19 | elapsed:    0.0s finished\n"
     ]
    },
    {
     "data": {
      "text/plain": "<RawEDF | JANPRZ_EEG_DATA.edf, 19 x 300001 (1200.0 s), ~43.5 MB, data loaded>",
      "text/html": "<table class=\"table table-hover table-striped table-sm table-responsive small\">\n    <tr>\n        <th>Measurement date</th>\n        \n        <td>March 22, 2006  09:44:43 GMT</td>\n        \n    </tr>\n    <tr>\n        <th>Experimenter</th>\n        \n        <td>Unknown</td>\n        \n    </tr>\n        <th>Participant</th>\n        \n        <td>Unknown</td>\n        \n    </tr>\n    <tr>\n        <th>Digitized points</th>\n        \n        <td>22 points</td>\n        \n    </tr>\n    <tr>\n        <th>Good channels</th>\n        <td>19 EEG</td>\n    </tr>\n    <tr>\n        <th>Bad channels</th>\n        <td>None</td>\n    </tr>\n    <tr>\n        <th>EOG channels</th>\n        <td>Not available</td>\n    </tr>\n    <tr>\n        <th>ECG channels</th>\n        <td>Not available</td>\n    \n    <tr>\n        <th>Sampling frequency</th>\n        <td>250.00 Hz</td>\n    </tr>\n    \n    \n    <tr>\n        <th>Highpass</th>\n        <td>0.00 Hz</td>\n    </tr>\n    \n    \n    <tr>\n        <th>Lowpass</th>\n        <td>125.00 Hz</td>\n    </tr>\n    \n    \n    \n    <tr>\n        <th>Filenames</th>\n        <td>JANPRZ_EEG_DATA.edf</td>\n    </tr>\n    \n    <tr>\n        <th>Duration</th>\n        <td>00:20:00 (HH:MM:SS)</td>\n    </tr>\n</table>"
     },
     "execution_count": 8,
     "metadata": {},
     "output_type": "execute_result"
    }
   ],
   "source": [
    "# record_path= os.path.join(ROOT_DIR, 'data', 'p10_Record1.edf')\n",
    "record_path= os.path.join(ROOT_DIR, 'data', 'EPI_odzysk', 'JANPRZ', 'JANPRZ_EEG_DATA.edf')\n",
    "raw = mne.io.read_raw_edf(record_path, preload=True)\n",
    "# add montage info\n",
    "montage = mne.channels.make_standard_montage(\"standard_1020\")\n",
    "raw.set_montage(montage, on_missing='warn')\n",
    "# ICA is a computational intense operation\n",
    "raw.crop(0, 1200).load_data()\n"
   ],
   "metadata": {
    "collapsed": false,
    "pycharm": {
     "name": "#%%\n"
    }
   }
  },
  {
   "cell_type": "code",
   "execution_count": 6,
   "outputs": [
    {
     "data": {
      "text/plain": "('MNE_3D_OPTION_ANTIALIAS',\n 'MNE_3D_OPTION_DEPTH_PEELING',\n 'MNE_3D_OPTION_MULTI_SAMPLES',\n 'MNE_3D_OPTION_SMOOTH_SHADING',\n 'MNE_3D_OPTION_THEME',\n 'MNE_BROWSE_RAW_SIZE',\n 'MNE_BROWSER_BACKEND',\n 'MNE_BROWSER_OVERVIEW_MODE',\n 'MNE_BROWSER_PRECOMPUTE',\n 'MNE_BROWSER_THEME',\n 'MNE_BROWSER_USE_OPENGL',\n 'MNE_CACHE_DIR',\n 'MNE_COREG_ADVANCED_RENDERING',\n 'MNE_COREG_COPY_ANNOT',\n 'MNE_COREG_FULLSCREEN',\n 'MNE_COREG_GUESS_MRI_SUBJECT',\n 'MNE_COREG_HEAD_HIGH_RES',\n 'MNE_COREG_HEAD_OPACITY',\n 'MNE_COREG_HEAD_INSIDE',\n 'MNE_COREG_INTERACTION',\n 'MNE_COREG_MARK_INSIDE',\n 'MNE_COREG_PREPARE_BEM',\n 'MNE_COREG_ORIENT_TO_SURFACE',\n 'MNE_COREG_SCALE_LABELS',\n 'MNE_COREG_SCALE_BY_DISTANCE',\n 'MNE_COREG_SCENE_SCALE',\n 'MNE_COREG_WINDOW_HEIGHT',\n 'MNE_COREG_WINDOW_WIDTH',\n 'MNE_COREG_SUBJECTS_DIR',\n 'MNE_CUDA_DEVICE',\n 'MNE_CUDA_IGNORE_PRECISION',\n 'MNE_DATA',\n 'MNE_DATASETS_BRAINSTORM_PATH',\n 'MNE_DATASETS_EEGBCI_PATH',\n 'MNE_DATASETS_EPILEPSY_ECOG_PATH',\n 'MNE_DATASETS_HF_SEF_PATH',\n 'MNE_DATASETS_MEGSIM_PATH',\n 'MNE_DATASETS_MISC_PATH',\n 'MNE_DATASETS_MTRF_PATH',\n 'MNE_DATASETS_SAMPLE_PATH',\n 'MNE_DATASETS_SOMATO_PATH',\n 'MNE_DATASETS_MULTIMODAL_PATH',\n 'MNE_DATASETS_FNIRS_MOTOR_PATH',\n 'MNE_DATASETS_OPM_PATH',\n 'MNE_DATASETS_SPM_FACE_DATASETS_TESTS',\n 'MNE_DATASETS_SPM_FACE_PATH',\n 'MNE_DATASETS_TESTING_PATH',\n 'MNE_DATASETS_VISUAL_92_CATEGORIES_PATH',\n 'MNE_DATASETS_KILOWORD_PATH',\n 'MNE_DATASETS_FIELDTRIP_CMC_PATH',\n 'MNE_DATASETS_PHANTOM_4DBTI_PATH',\n 'MNE_DATASETS_LIMO_PATH',\n 'MNE_DATASETS_REFMEG_NOISE_PATH',\n 'MNE_DATASETS_SSVEP_PATH',\n 'MNE_DATASETS_ERP_CORE_PATH',\n 'MNE_DATASETS_EPILEPSY_ECOG_PATH',\n 'MNE_FORCE_SERIAL',\n 'MNE_KIT2FIFF_STIM_CHANNELS',\n 'MNE_KIT2FIFF_STIM_CHANNEL_CODING',\n 'MNE_KIT2FIFF_STIM_CHANNEL_SLOPE',\n 'MNE_KIT2FIFF_STIM_CHANNEL_THRESHOLD',\n 'MNE_LOGGING_LEVEL',\n 'MNE_MEMMAP_MIN_SIZE',\n 'MNE_REPR_HTML',\n 'MNE_SKIP_FTP_TESTS',\n 'MNE_SKIP_NETWORK_TESTS',\n 'MNE_SKIP_TESTING_DATASET_TESTS',\n 'MNE_STIM_CHANNEL',\n 'MNE_TQDM',\n 'MNE_USE_CUDA',\n 'MNE_USE_NUMBA',\n 'SUBJECTS_DIR')"
     },
     "execution_count": 6,
     "metadata": {},
     "output_type": "execute_result"
    }
   ],
   "source": [
    "mne.get_config(key='')"
   ],
   "metadata": {
    "collapsed": false,
    "pycharm": {
     "name": "#%%\n"
    }
   }
  },
  {
   "cell_type": "code",
   "execution_count": 3,
   "outputs": [
    {
     "name": "stdout",
     "output_type": "stream",
     "text": [
      "Effective window size : 1.024 (s)\n"
     ]
    },
    {
     "name": "stderr",
     "output_type": "stream",
     "text": [
      "C:\\Users\\robbo\\python\\python3.8.9-64bits\\lib\\site-packages\\mne\\viz\\utils.py:137: UserWarning: Matplotlib is currently using module://matplotlib_inline.backend_inline, which is a non-GUI backend, so cannot show the figure.\n",
      "  (fig or plt).show(**kwargs)\n"
     ]
    }
   ],
   "source": [
    "raw.compute_psd().plot();"
   ],
   "metadata": {
    "collapsed": false,
    "pycharm": {
     "name": "#%%\n"
    }
   }
  }
 ],
 "metadata": {
  "kernelspec": {
   "display_name": "Python 3",
   "language": "python",
   "name": "python3"
  },
  "language_info": {
   "codemirror_mode": {
    "name": "ipython",
    "version": 2
   },
   "file_extension": ".py",
   "mimetype": "text/x-python",
   "name": "python",
   "nbconvert_exporter": "python",
   "pygments_lexer": "ipython2",
   "version": "2.7.6"
  }
 },
 "nbformat": 4,
 "nbformat_minor": 0
}